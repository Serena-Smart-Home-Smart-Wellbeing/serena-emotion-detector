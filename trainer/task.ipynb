{
 "cells": [
  {
   "cell_type": "markdown",
   "id": "b877bb6a-89a3-4d8e-8752-6c71edfcad6f",
   "metadata": {},
   "source": [
    "This notebook is only for developing, training, and saving the model. For evaluating the model, check `evaluate.ipynb`."
   ]
  },
  {
   "cell_type": "markdown",
   "id": "cffe7f84-d693-492a-91d3-ce6fcda547c2",
   "metadata": {},
   "source": [
    "# Datasets"
   ]
  },
  {
   "cell_type": "markdown",
   "id": "544db98e-93d3-482d-938e-a0c4825118ed",
   "metadata": {},
   "source": [
    "Run this `gcsfuse` cell if you can't list the folders inside of \"/gcs\""
   ]
  },
  {
   "cell_type": "code",
   "execution_count": 1,
   "id": "0ea40ddc-091b-4347-95ed-eec69d786496",
   "metadata": {},
   "outputs": [
    {
     "name": "stdout",
     "output_type": "stream",
     "text": [
      "I1128 12:09:58.718790 2023/11/28 12:09:58.718751 Start gcsfuse/0.42.5 (Go version go1.20.3) for app \"\" using mount point: /home/jupyter/gcs\n"
     ]
    }
   ],
   "source": [
    "!gcsfuse --implicit-dirs \"~/gcs\""
   ]
  },
  {
   "cell_type": "markdown",
   "id": "f5fc1025-7462-43e8-861d-8070cda29d37",
   "metadata": {},
   "source": [
    "When using GCS buckets, use \"/gcs\" instead of \"gs://\""
   ]
  },
  {
   "cell_type": "code",
   "execution_count": 2,
   "id": "e9847ebb-029a-4c7e-ab03-d50b170d7f2d",
   "metadata": {},
   "outputs": [
    {
     "name": "stdout",
     "output_type": "stream",
     "text": [
      "Train\n",
      "angry  disgust\tfear  happy  neutral  sad  surprise\n",
      "Test\n",
      "angry  disgust\tfear  happy  neutral  sad  surprise\n",
      "Valid\n",
      "angry  disgust\tfear  happy  neutral  sad  surprise\n"
     ]
    }
   ],
   "source": [
    "#from sklearn.model_selection import train_test_split\n",
    "\n",
    "dataset_path = \"/home/jupyter/gcs/serena-shsw-datasets\"\n",
    "train_path = dataset_path + \"/FER-SERENA/train/train\"\n",
    "test_path = dataset_path + \"/FER-SERENA/test/test\"\n",
    "validation_path = dataset_path + \"/FER-SERENA/valid/validation\"\n",
    "\n",
    "# Output directory contents\n",
    "!echo \"Train\"\n",
    "!ls {train_path}\n",
    "!echo \"Test\"\n",
    "!ls {test_path}\n",
    "!echo \"Valid\"\n",
    "!ls {validation_path}"
   ]
  },
  {
   "cell_type": "code",
   "execution_count": 3,
   "id": "d694d30e-908d-4ec1-a72d-bafc539727f0",
   "metadata": {},
   "outputs": [],
   "source": [
    "shape_x = 48\n",
    "shape_y = 48"
   ]
  },
  {
   "cell_type": "code",
   "execution_count": null,
   "id": "e7848553-eba8-42ab-a45a-e58070194fbf",
   "metadata": {},
   "outputs": [],
   "source": [
    "import numpy as np\n",
    "import os\n",
    "from PIL import Image\n",
    "# Function to read images from a directory\n",
    "def read_images_from_folder(folder_path):\n",
    "    images = []\n",
    "    labels = []\n",
    "    for idx, emotion_folder in enumerate(os.listdir(folder_path)):\n",
    "        if os.path.isdir(os.path.join(folder_path, emotion_folder)):\n",
    "            emotion_dir = os.path.join(folder_path, emotion_folder)\n",
    "            for filename in os.listdir(emotion_dir):\n",
    "                if filename.endswith(\".jpg\"):\n",
    "                    img_path = os.path.join(emotion_dir, filename)\n",
    "                    img = Image.open(img_path).resize((48, 48))  # Resize images as needed\n",
    "                    images.append(np.array(img))\n",
    "                    labels.append(idx)  # Append label corresponding to the image\n",
    "    return np.array(images), np.array(labels)\n",
    "\n",
    "# Read images and labels for train, test, and validation sets\n",
    "train_images, train_labels = read_images_from_folder(train_path)\n",
    "test_images, test_labels = read_images_from_folder(test_path)\n",
    "validation_images, validation_labels = read_images_from_folder(validation_path)\n",
    "\n",
    "# Normalize pixel values to range [0, 1]\n",
    "train_images = train_images / 255.0\n",
    "test_images = test_images / 255.0\n",
    "validation_images = validation_images / 255.0\n",
    "\n",
    "# Print shapes of data arrays\n",
    "print(\"Shape of train_images and train_labels:\", train_images.shape, train_labels.shape)\n",
    "print(\"Shape of test_images and test_labels:\", test_images.shape, test_labels.shape)\n",
    "print(\"Shape of validation_images and validation_labels:\", validation_images.shape, validation_labels.shape)"
   ]
  },
  {
   "cell_type": "code",
   "execution_count": null,
   "id": "70c15071-18f9-400c-a0ed-2c6864bdf314",
   "metadata": {},
   "outputs": [],
   "source": [
    "from tensorflow.keras.utils import to_categorical\n",
    "# Change to float datatype (if not already float32)\n",
    "train_data = train_images.astype('float32')\n",
    "test_data = test_images.astype('float32')\n",
    "\n",
    "# Change the labels from integer to categorical data\n",
    "train_labels_one_hot = to_categorical(train_labels)\n",
    "test_labels_one_hot = to_categorical(test_labels)"
   ]
  },
  {
   "cell_type": "markdown",
   "id": "b5a55140-355c-4b61-bd81-0a7ef0af682b",
   "metadata": {
    "tags": []
   },
   "source": [
    "# Saving Model"
   ]
  },
  {
   "cell_type": "markdown",
   "id": "4e9d6a4f-4719-44a0-b3c5-f033552b5610",
   "metadata": {},
   "source": [
    "Vertex AI expects the model artifacts to be saved in `BASE_OUTPUT_DIRECTORY/model/` when you want to train a new version of a model"
   ]
  },
  {
   "cell_type": "code",
   "execution_count": 1,
   "id": "11b87174-b715-4586-8543-fd9fcb915493",
   "metadata": {},
   "outputs": [
    {
     "ename": "NameError",
     "evalue": "name 'dataset_path' is not defined",
     "output_type": "error",
     "traceback": [
      "\u001b[0;31m---------------------------------------------------------------------------\u001b[0m",
      "\u001b[0;31mNameError\u001b[0m                                 Traceback (most recent call last)",
      "\u001b[0;32m/var/tmp/ipykernel_2447/3298028701.py\u001b[0m in \u001b[0;36m<module>\u001b[0;34m\u001b[0m\n\u001b[0;32m----> 1\u001b[0;31m \u001b[0msaved_model_path\u001b[0m \u001b[0;34m=\u001b[0m \u001b[0mdataset_path\u001b[0m \u001b[0;34m+\u001b[0m \u001b[0;34m\"/models/serena-emotion-detector/model\"\u001b[0m\u001b[0;34m\u001b[0m\u001b[0;34m\u001b[0m\u001b[0m\n\u001b[0m\u001b[1;32m      2\u001b[0m \u001b[0;34m\u001b[0m\u001b[0m\n\u001b[1;32m      3\u001b[0m \u001b[0;31m# Do not uncomment this line, it will be done by setup.sh\u001b[0m\u001b[0;34m\u001b[0m\u001b[0;34m\u001b[0m\u001b[0;34m\u001b[0m\u001b[0m\n\u001b[1;32m      4\u001b[0m \u001b[0;31m#model.save(saved_model_path)\u001b[0m\u001b[0;34m\u001b[0m\u001b[0;34m\u001b[0m\u001b[0;34m\u001b[0m\u001b[0m\n",
      "\u001b[0;31mNameError\u001b[0m: name 'dataset_path' is not defined"
     ]
    }
   ],
   "source": [
    "saved_model_path = dataset_path + \"/models/serena-emotion-detector/model\"\n",
    "\n",
    "# Do not uncomment this line, it will be done by setup.sh\n",
    "#model.save(saved_model_path)"
   ]
  },
  {
   "cell_type": "markdown",
   "id": "43c61d68-c8cf-432a-b64b-0e8fe03aa634",
   "metadata": {},
   "source": [
    "After saving, use `evaluate.ipynb` to evaluate the model after loading the artifacts."
   ]
  }
 ],
 "metadata": {
  "environment": {
   "kernel": "python3",
   "name": "tf2-cpu.2-11.m109",
   "type": "gcloud",
   "uri": "gcr.io/deeplearning-platform-release/tf2-cpu.2-11:m109"
  },
  "kernelspec": {
   "display_name": "Python 3",
   "language": "python",
   "name": "python3"
  },
  "language_info": {
   "codemirror_mode": {
    "name": "ipython",
    "version": 3
   },
   "file_extension": ".py",
   "mimetype": "text/x-python",
   "name": "python",
   "nbconvert_exporter": "python",
   "pygments_lexer": "ipython3",
   "version": "3.7.12"
  }
 },
 "nbformat": 4,
 "nbformat_minor": 5
}
