{
 "cells": [
  {
   "cell_type": "code",
   "execution_count": null,
   "id": "81326816-088e-458c-b64f-f7e09b2f034c",
   "metadata": {},
   "outputs": [],
   "source": [
    "saved_model_path = \"~/gcs/serena-shsw-datasets/models/emotion-detector/saved_model.pb\""
   ]
  },
  {
   "cell_type": "code",
   "execution_count": null,
   "id": "1b15cab2-9809-40bd-8215-2bb36df3cf66",
   "metadata": {},
   "outputs": [],
   "source": [
    "model.load(saved_model_path)"
   ]
  }
 ],
 "metadata": {
  "environment": {
   "kernel": "python3",
   "name": "tf2-cpu.2-11.m109",
   "type": "gcloud",
   "uri": "gcr.io/deeplearning-platform-release/tf2-cpu.2-11:m109"
  },
  "kernelspec": {
   "display_name": "Python 3",
   "language": "python",
   "name": "python3"
  },
  "language_info": {
   "codemirror_mode": {
    "name": "ipython",
    "version": 3
   },
   "file_extension": ".py",
   "mimetype": "text/x-python",
   "name": "python",
   "nbconvert_exporter": "python",
   "pygments_lexer": "ipython3",
   "version": "3.7.12"
  }
 },
 "nbformat": 4,
 "nbformat_minor": 5
}
